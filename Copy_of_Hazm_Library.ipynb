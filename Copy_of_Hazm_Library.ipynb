{
  "nbformat": 4,
  "nbformat_minor": 0,
  "metadata": {
    "colab": {
      "provenance": [],
      "collapsed_sections": [],
      "authorship_tag": "ABX9TyMsPIkVXfzuT2ErGK3sndfx",
      "include_colab_link": true
    },
    "kernelspec": {
      "name": "python3",
      "display_name": "Python 3"
    },
    "language_info": {
      "name": "python"
    }
  },
  "cells": [
    {
      "cell_type": "markdown",
      "metadata": {
        "id": "view-in-github",
        "colab_type": "text"
      },
      "source": [
        "<a href=\"https://colab.research.google.com/github/mahdiheidari721/AI-Internship/blob/master/Copy_of_Hazm_Library.ipynb\" target=\"_parent\"><img src=\"https://colab.research.google.com/assets/colab-badge.svg\" alt=\"Open In Colab\"/></a>"
      ]
    },
    {
      "cell_type": "code",
      "execution_count": 2,
      "metadata": {
        "colab": {
          "base_uri": "https://localhost:8080/"
        },
        "id": "obDXr5o29lAM",
        "outputId": "f8aa21c4-20bb-46a8-f5f0-9a2564735d0f"
      },
      "outputs": [
        {
          "output_type": "stream",
          "name": "stdout",
          "text": [
            "Looking in indexes: https://pypi.org/simple, https://us-python.pkg.dev/colab-wheels/public/simple/\n",
            "Requirement already satisfied: hazm in /usr/local/lib/python3.7/dist-packages (0.7.1)\n",
            "Requirement already satisfied: libwapiti>=0.2.1 in /usr/local/lib/python3.7/dist-packages (from hazm) (0.2.1)\n",
            "Requirement already satisfied: nltk==3.4 in /usr/local/lib/python3.7/dist-packages (from hazm) (3.4)\n",
            "Requirement already satisfied: singledispatch in /usr/local/lib/python3.7/dist-packages (from nltk==3.4->hazm) (3.7.0)\n",
            "Requirement already satisfied: six in /usr/local/lib/python3.7/dist-packages (from nltk==3.4->hazm) (1.15.0)\n"
          ]
        }
      ],
      "source": [
        "!pip install hazm"
      ]
    },
    {
      "cell_type": "code",
      "source": [
        "!pip install https://github.com/sobhe/hazm/archive/master.zip --upgrade"
      ],
      "metadata": {
        "colab": {
          "base_uri": "https://localhost:8080/"
        },
        "id": "BAZheS4wAVm3",
        "outputId": "9c1782f5-5457-4782-b375-5f70dff015d9"
      },
      "execution_count": 3,
      "outputs": [
        {
          "output_type": "stream",
          "name": "stdout",
          "text": [
            "Looking in indexes: https://pypi.org/simple, https://us-python.pkg.dev/colab-wheels/public/simple/\n",
            "Collecting https://github.com/sobhe/hazm/archive/master.zip\n",
            "  Using cached https://github.com/sobhe/hazm/archive/master.zip\n",
            "Requirement already satisfied: nltk==3.4 in /usr/local/lib/python3.7/dist-packages (from hazm==0.7.1) (3.4)\n",
            "Requirement already satisfied: libwapiti>=0.2.1 in /usr/local/lib/python3.7/dist-packages (from hazm==0.7.1) (0.2.1)\n",
            "Requirement already satisfied: singledispatch in /usr/local/lib/python3.7/dist-packages (from nltk==3.4->hazm==0.7.1) (3.7.0)\n",
            "Requirement already satisfied: six in /usr/local/lib/python3.7/dist-packages (from nltk==3.4->hazm==0.7.1) (1.15.0)\n"
          ]
        }
      ]
    },
    {
      "cell_type": "code",
      "source": [
        "from __future__ import unicode_literals\n",
        "from hazm import *\n"
      ],
      "metadata": {
        "id": "4MAGSIs6C-yx"
      },
      "execution_count": 4,
      "outputs": []
    },
    {
      "cell_type": "code",
      "source": [
        "Sentence=[\"هیچگاه بیشتر از آنچه مقدر تو است بیشتر نخواه\",\"تا توان داری برای کمال بجنگ\",\"امروز خیلی خسته کننده بود\",\"امروز همان فردایی است که دیروز انتظارش را می کشیدی\",\"سمرقند و بخارا رابه خال هندویش بخشم\",\"اگر آن ترک شیرازی به دست آورد دل ما را\",\"خودت را پیدا کن بقیه اش توی گوگل هست\",\"تو قهوه نیستی تا از تلخ بودنت خوش ام بیاید\", \"فردا حتما روز سختی خواهد بود\",\"امروز هوا سرد است\"]\n",
        "Tokenized=[word_tokenize(s) for s in Sentence]\n",
        "tagger = POSTagger(model='resources/postagger.model')\n",
        "# Pos_tagged=[tagger.tag(s) for s in Tokenized]\n",
        "# print(Pos_tagged)"
      ],
      "metadata": {
        "id": "PblM6jDVGPXp"
      },
      "execution_count": null,
      "outputs": []
    },
    {
      "cell_type": "code",
      "source": [
        "print(Tokenized)"
      ],
      "metadata": {
        "id": "G_bOKdRDJi7S"
      },
      "execution_count": null,
      "outputs": []
    }
  ]
}