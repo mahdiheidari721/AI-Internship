{
  "nbformat": 4,
  "nbformat_minor": 0,
  "metadata": {
    "colab": {
      "name": "Phonemizer.ipynb",
      "provenance": [],
      "collapsed_sections": [],
      "include_colab_link": true
    },
    "kernelspec": {
      "name": "python3",
      "display_name": "Python 3"
    },
    "language_info": {
      "name": "python"
    }
  },
  "cells": [
    {
      "cell_type": "markdown",
      "metadata": {
        "id": "view-in-github",
        "colab_type": "text"
      },
      "source": [
        "<a href=\"https://colab.research.google.com/github/mahdiheidari721/AI-Internship/blob/master/Phonemizer.ipynb\" target=\"_parent\"><img src=\"https://colab.research.google.com/assets/colab-badge.svg\" alt=\"Open In Colab\"/></a>"
      ]
    },
    {
      "cell_type": "code",
      "metadata": {
        "colab": {
          "base_uri": "https://localhost:8080/"
        },
        "id": "CYI-E6kmvcDe",
        "outputId": "eed8ffbc-c4ea-4778-9062-211831eb4834"
      },
      "source": [
        "!sudo apt-get update\n",
        "!apt-get install make autoconf automake libtool pkg-config gcc libsonic-dev libpcaudio-dev\n",
        "!git clone https://github.com/espeak-ng/espeak-ng.git\n",
        "!cd espeak-ng && ./autogen.sh && ./configure --with-extdict-cmn && make && make install && ldconfig"
      ],
      "execution_count": 55,
      "outputs": [
        {
          "output_type": "stream",
          "name": "stdout",
          "text": [
            "\r0% [Working]\r            \rHit:1 http://archive.ubuntu.com/ubuntu bionic InRelease\n",
            "\r0% [Waiting for headers] [Connecting to security.ubuntu.com (185.125.190.39)] [\r0% [1 InRelease gpgv 242 kB] [Waiting for headers] [Connecting to security.ubun\r                                                                               \rHit:2 http://archive.ubuntu.com/ubuntu bionic-updates InRelease\n",
            "Hit:3 http://archive.ubuntu.com/ubuntu bionic-backports InRelease\n",
            "Hit:4 https://cloud.r-project.org/bin/linux/ubuntu bionic-cran40/ InRelease\n",
            "Hit:5 http://security.ubuntu.com/ubuntu bionic-security InRelease\n",
            "Hit:6 http://ppa.launchpad.net/c2d4u.team/c2d4u4.0+/ubuntu bionic InRelease\n",
            "Ign:7 https://developer.download.nvidia.com/compute/machine-learning/repos/ubuntu1804/x86_64  InRelease\n",
            "Hit:8 http://ppa.launchpad.net/cran/libgit2/ubuntu bionic InRelease\n",
            "Hit:9 https://developer.download.nvidia.com/compute/cuda/repos/ubuntu1804/x86_64  InRelease\n",
            "Hit:10 https://developer.download.nvidia.com/compute/machine-learning/repos/ubuntu1804/x86_64  Release\n",
            "Hit:11 http://ppa.launchpad.net/deadsnakes/ppa/ubuntu bionic InRelease\n",
            "Hit:12 http://ppa.launchpad.net/graphics-drivers/ppa/ubuntu bionic InRelease\n",
            "Reading package lists... Done\n",
            "Reading package lists... Done\n",
            "Building dependency tree       \n",
            "Reading state information... Done\n",
            "autoconf is already the newest version (2.69-11).\n",
            "automake is already the newest version (1:1.15.1-3ubuntu2).\n",
            "libpcaudio-dev is already the newest version (1.0-1).\n",
            "libsonic-dev is already the newest version (0.2.0-6).\n",
            "libtool is already the newest version (2.4.6-2).\n",
            "make is already the newest version (4.1-9.1ubuntu1).\n",
            "pkg-config is already the newest version (0.29.1-0ubuntu2).\n",
            "gcc is already the newest version (4:7.4.0-1ubuntu2.3).\n",
            "The following package was automatically installed and is no longer required:\n",
            "  libnvidia-common-460\n",
            "Use 'apt autoremove' to remove it.\n",
            "0 upgraded, 0 newly installed, 0 to remove and 25 not upgraded.\n",
            "fatal: destination path 'espeak-ng' already exists and is not an empty directory.\n",
            "Makefile.am:109: warning: shell dirname $@: non-POSIX variable name\n",
            "Makefile.am:109: (probably a GNU make extension)\n",
            "Makefile.am:112: warning: shell dirname $@: non-POSIX variable name\n",
            "Makefile.am:112: (probably a GNU make extension)\n",
            "Makefile.am:114: warning: wildcard docs/*.md: non-POSIX variable name\n",
            "Makefile.am:114: (probably a GNU make extension)\n",
            "Makefile.am:114: warning: wildcard docs/*/*.md: non-POSIX variable name\n",
            "Makefile.am:114: (probably a GNU make extension)\n",
            "Makefile.am:114: warning: wildcard docs/*/*/*.md: non-POSIX variable name\n",
            "Makefile.am:114: (probably a GNU make extension)\n",
            "Makefile.am:314: warning: filter-out tests/windows-data.test,$(wildcard tests/*.test: non-POSIX variable name\n",
            "Makefile.am:314: (probably a GNU make extension)\n",
            "Makefile.am:358: warning: wildcard tests/ssml/*.ssml tests/ssml-fuzzer/*.ssml: non-POSIX variable name\n",
            "Makefile.am:358: (probably a GNU make extension)\n",
            "Makefile.am:365: warning: wildcard tests/ssml/*.expected: non-POSIX variable name\n",
            "Makefile.am:365: (probably a GNU make extension)\n",
            "Makefile.am:375: warning: wildcard phsource/*: non-POSIX variable name\n",
            "Makefile.am:375: (probably a GNU make extension)\n",
            "Makefile.am:375: warning: wildcard phsource/*/*: non-POSIX variable name\n",
            "Makefile.am:375: (probably a GNU make extension)\n",
            "Makefile.am:375: warning: wildcard phsource/*/*/*: non-POSIX variable name\n",
            "Makefile.am:375: (probably a GNU make extension)\n",
            "Makefile.am:380: warning: wildcard espeak-ng-data/lang/*: non-POSIX variable name\n",
            "Makefile.am:380: (probably a GNU make extension)\n",
            "Makefile.am:380: warning: wildcard espeak-ng-data/lang/*/*: non-POSIX variable name\n",
            "Makefile.am:380: (probably a GNU make extension)\n",
            "Makefile.am:380: warning: wildcard espeak-ng-data/voices/*/*: non-POSIX variable name\n",
            "Makefile.am:380: (probably a GNU make extension)\n",
            "Makefile.am:385: warning: filter-out phsource/phonemes.stamp,$(PHSOURCE: non-POSIX variable name\n",
            "Makefile.am:385: (probably a GNU make extension)\n",
            "Makefile.am:385: warning: filter-out espeak-ng-data/voices/!v/Mr serious,$(LANGDATA: non-POSIX variable name\n",
            "Makefile.am:385: (probably a GNU make extension)\n",
            "Makefile.am:410: warning: '%'-style pattern rules are a GNU make extension\n",
            "Makefile.am:421: warning: '%'-style pattern rules are a GNU make extension\n",
            "Makefile.am:432: warning: '%'-style pattern rules are a GNU make extension\n",
            "Makefile.am:435: warning: *F: non-POSIX variable name\n",
            "Makefile.am:552: warning: wildcard dictsource/*_emoji: non-POSIX variable name\n",
            "Makefile.am:552: (probably a GNU make extension)\n",
            "Makefile.am:552: warning: wildcard dictsource/*_extra: non-POSIX variable name\n",
            "Makefile.am:552: (probably a GNU make extension)\n",
            "Makefile.am:552: warning: wildcard dictsource/*_list: non-POSIX variable name\n",
            "Makefile.am:552: (probably a GNU make extension)\n",
            "Makefile.am:552: warning: wildcard dictsource/*_rules: non-POSIX variable name\n",
            "Makefile.am:552: (probably a GNU make extension)\n",
            "Makefile.am:552: warning: wildcard dictsource/extra/*: non-POSIX variable name\n",
            "Makefile.am:552: (probably a GNU make extension)\n",
            "Makefile.am:948: warning: wildcard phsource/mbrola/*: non-POSIX variable name\n",
            "Makefile.am:948: (probably a GNU make extension)\n",
            "Makefile.am:954: warning: '%'-style pattern rules are a GNU make extension\n",
            "checking for a BSD-compatible install... /usr/bin/install -c\n",
            "checking whether build environment is sane... yes\n",
            "checking for a thread-safe mkdir -p... /bin/mkdir -p\n",
            "checking for gawk... no\n",
            "checking for mawk... mawk\n",
            "checking whether make sets $(MAKE)... yes\n",
            "checking whether make supports nested variables... yes\n",
            "checking build system type... x86_64-pc-linux-gnu\n",
            "checking host system type... x86_64-pc-linux-gnu\n",
            "checking how to print strings... printf\n",
            "checking for style of include used by make... GNU\n",
            "checking for gcc... gcc\n",
            "checking whether the C compiler works... yes\n",
            "checking for C compiler default output file name... a.out\n",
            "checking for suffix of executables... \n",
            "checking whether we are cross compiling... no\n",
            "checking for suffix of object files... o\n",
            "checking whether we are using the GNU C compiler... yes\n",
            "checking whether gcc accepts -g... yes\n",
            "checking for gcc option to accept ISO C89... none needed\n",
            "checking whether gcc understands -c and -o together... yes\n",
            "checking dependency style of gcc... gcc3\n",
            "checking for a sed that does not truncate output... /bin/sed\n",
            "checking for grep that handles long lines and -e... /bin/grep\n",
            "checking for egrep... /bin/grep -E\n",
            "checking for fgrep... /bin/grep -F\n",
            "checking for ld used by gcc... /usr/bin/ld\n",
            "checking if the linker (/usr/bin/ld) is GNU ld... yes\n",
            "checking for BSD- or MS-compatible name lister (nm)... /usr/bin/nm -B\n",
            "checking the name lister (/usr/bin/nm -B) interface... BSD nm\n",
            "checking whether ln -s works... yes\n",
            "checking the maximum length of command line arguments... 1572864\n",
            "checking how to convert x86_64-pc-linux-gnu file names to x86_64-pc-linux-gnu format... func_convert_file_noop\n",
            "checking how to convert x86_64-pc-linux-gnu file names to toolchain format... func_convert_file_noop\n",
            "checking for /usr/bin/ld option to reload object files... -r\n",
            "checking for objdump... objdump\n",
            "checking how to recognize dependent libraries... pass_all\n",
            "checking for dlltool... no\n",
            "checking how to associate runtime and link libraries... printf %s\\n\n",
            "checking for ar... ar\n",
            "checking for archiver @FILE support... @\n",
            "checking for strip... strip\n",
            "checking for ranlib... ranlib\n",
            "checking command to parse /usr/bin/nm -B output from gcc object... ok\n",
            "checking for sysroot... no\n",
            "checking for a working dd... /bin/dd\n",
            "checking how to truncate binary pipes... /bin/dd bs=4096 count=1\n",
            "checking for mt... no\n",
            "checking if : is a manifest tool... no\n",
            "checking how to run the C preprocessor... gcc -E\n",
            "checking for ANSI C header files... yes\n",
            "checking for sys/types.h... yes\n",
            "checking for sys/stat.h... yes\n",
            "checking for stdlib.h... yes\n",
            "checking for string.h... yes\n",
            "checking for memory.h... yes\n",
            "checking for strings.h... yes\n",
            "checking for inttypes.h... yes\n",
            "checking for stdint.h... yes\n",
            "checking for unistd.h... yes\n",
            "checking for dlfcn.h... yes\n",
            "checking for objdir... .libs\n",
            "checking if gcc supports -fno-rtti -fno-exceptions... no\n",
            "checking for gcc option to produce PIC... -fPIC -DPIC\n",
            "checking if gcc PIC flag -fPIC -DPIC works... yes\n",
            "checking if gcc static flag -static works... yes\n",
            "checking if gcc supports -c -o file.o... yes\n",
            "checking if gcc supports -c -o file.o... (cached) yes\n",
            "checking whether the gcc linker (/usr/bin/ld -m elf_x86_64) supports shared libraries... yes\n",
            "checking whether -lc should be explicitly linked in... no\n",
            "checking dynamic linker characteristics... GNU/Linux ld.so\n",
            "checking how to hardcode library paths into programs... immediate\n",
            "checking whether stripping libraries is possible... yes\n",
            "checking if libtool supports shared libraries... yes\n",
            "checking whether to build shared libraries... yes\n",
            "checking whether to build static libraries... yes\n",
            "checking whether make supports nested variables... (cached) yes\n",
            "checking whether make supports nested variables... (cached) yes\n",
            "checking for gcc... (cached) gcc\n",
            "checking whether we are using the GNU C compiler... (cached) yes\n",
            "checking whether gcc accepts -g... (cached) yes\n",
            "checking for gcc option to accept ISO C89... (cached) none needed\n",
            "checking whether gcc understands -c and -o together... (cached) yes\n",
            "checking dependency style of gcc... (cached) gcc3\n",
            "checking for g++... g++\n",
            "checking whether we are using the GNU C++ compiler... yes\n",
            "checking whether g++ accepts -g... yes\n",
            "checking dependency style of g++... gcc3\n",
            "checking how to run the C++ preprocessor... g++ -E\n",
            "checking for ld used by g++... /usr/bin/ld -m elf_x86_64\n",
            "checking if the linker (/usr/bin/ld -m elf_x86_64) is GNU ld... yes\n",
            "checking whether the g++ linker (/usr/bin/ld -m elf_x86_64) supports shared libraries... yes\n",
            "checking for g++ option to produce PIC... -fPIC -DPIC\n",
            "checking if g++ PIC flag -fPIC -DPIC works... yes\n",
            "checking if g++ static flag -static works... yes\n",
            "checking if g++ supports -c -o file.o... yes\n",
            "checking if g++ supports -c -o file.o... (cached) yes\n",
            "checking whether the g++ linker (/usr/bin/ld -m elf_x86_64) supports shared libraries... yes\n",
            "checking dynamic linker characteristics... (cached) GNU/Linux ld.so\n",
            "checking how to hardcode library paths into programs... immediate\n",
            "checking whether make sets $(MAKE)... (cached) yes\n",
            "checking whether ln -s works... yes\n",
            "checking for gradle... no\n",
            "checking if gcc supports C99 without any flags... yes\n",
            "checking if gcc supports C99 with the -std=c99 flag... yes\n",
            "checking if gcc supports C99... -std=c99\n",
            "checking if gcc supports fuzzer with the -fsanitize=fuzzer flag... no\n",
            "checking if targeting FreeBSD... no\n",
            "checking endian.h usability... yes\n",
            "checking endian.h presence... yes\n",
            "checking for endian.h... yes\n",
            "checking fcntl.h usability... yes\n",
            "checking fcntl.h presence... yes\n",
            "checking for fcntl.h... yes\n",
            "checking getopt.h usability... yes\n",
            "checking getopt.h presence... yes\n",
            "checking for getopt.h... yes\n",
            "checking locale.h usability... yes\n",
            "checking locale.h presence... yes\n",
            "checking for locale.h... yes\n",
            "checking stddef.h usability... yes\n",
            "checking stddef.h presence... yes\n",
            "checking for stddef.h... yes\n",
            "checking stdbool.h usability... yes\n",
            "checking stdbool.h presence... yes\n",
            "checking for stdbool.h... yes\n",
            "checking sys/endian.h usability... no\n",
            "checking sys/endian.h presence... no\n",
            "checking for sys/endian.h... no\n",
            "checking sys/time.h usability... yes\n",
            "checking sys/time.h presence... yes\n",
            "checking for sys/time.h... yes\n",
            "checking wchar.h usability... yes\n",
            "checking wchar.h presence... yes\n",
            "checking for wchar.h... yes\n",
            "checking wctype.h usability... yes\n",
            "checking wctype.h presence... yes\n",
            "checking for wctype.h... yes\n",
            "checking for size_t... yes\n",
            "checking for ssize_t... yes\n",
            "checking for uint16_t... yes\n",
            "checking for uint32_t... yes\n",
            "checking for uint64_t... yes\n",
            "checking for pid_t... yes\n",
            "checking vfork.h usability... no\n",
            "checking vfork.h presence... no\n",
            "checking for vfork.h... no\n",
            "checking for fork... yes\n",
            "checking for vfork... yes\n",
            "checking for working fork... yes\n",
            "checking for working vfork... (cached) yes\n",
            "checking for working strcoll... yes\n",
            "checking for error_at_line... yes\n",
            "checking for dup2... yes\n",
            "checking for getopt_long... yes\n",
            "checking for gettimeofday... yes\n",
            "checking for malloc... yes\n",
            "checking for memchr... yes\n",
            "checking for memmove... yes\n",
            "checking for memset... yes\n",
            "checking for mkdir... yes\n",
            "checking for mkstemp... yes\n",
            "checking for pow... no\n",
            "checking for realloc... yes\n",
            "checking for setlocale... yes\n",
            "checking for sqrt... no\n",
            "checking for strchr... yes\n",
            "checking for strdup... yes\n",
            "checking for strerror... yes\n",
            "checking for strrchr... yes\n",
            "checking for strstr... yes\n",
            "checking pcaudiolib/audio.h usability... yes\n",
            "checking pcaudiolib/audio.h presence... yes\n",
            "checking for pcaudiolib/audio.h... yes\n",
            "checking sonic.h usability... yes\n",
            "checking sonic.h presence... yes\n",
            "checking for sonic.h... yes\n",
            "checking for sonicCreateStream in -lsonic... yes\n",
            "checking valgrind/memcheck.h usability... no\n",
            "checking valgrind/memcheck.h presence... no\n",
            "checking for valgrind/memcheck.h... no\n",
            "checking for ronn... no\n",
            "checking for kramdown... no\n",
            "checking whether C compiler accepts -Wimplicit... yes\n",
            "checking whether C compiler accepts -Wint-conversion... yes\n",
            "checking whether C compiler accepts -Wmissing-prototypes... yes\n",
            "checking whether C compiler accepts -Wreturn-type... yes\n",
            "checking whether C compiler accepts -Wuninitialized... yes\n",
            "checking whether C compiler accepts -Wunused... yes\n",
            "checking whether C compiler accepts -Wunused-parameter... yes\n",
            "checking whether C compiler accepts -fwrapv... yes\n",
            "checking that generated files are newer than configure... done\n",
            "configure: creating ./config.status\n",
            "config.status: creating Makefile\n",
            "config.status: creating espeak-ng.pc\n",
            "config.status: creating config.h\n",
            "config.status: config.h is unchanged\n",
            "config.status: executing depfiles commands\n",
            "config.status: executing libtool commands\n",
            "configure:\n",
            "\n",
            "    Configuration for eSpeak NG complete.\n",
            "\n",
            "        Source code location:          .\n",
            "\n",
            "        C99 Compiler:                  gcc\n",
            "        C99 Compiler flags:            -fwrapv -Wunused-parameter -Wunused -Wuninitialized -Wreturn-type -Wmissing-prototypes -Wint-conversion -Wimplicit -g -O2 -std=c99\n",
            "\n",
            "        Sonic:                         yes\n",
            "        PCAudioLib:                    yes\n",
            "\n",
            "        gradle (Android):              \n",
            "\n",
            "        Klatt:                         yes\n",
            "        speechPlayer:                  yes\n",
            "        MBROLA:                        yes\n",
            "        Async:                         yes\n",
            "\n",
            "        Extended Dictionaries:\n",
            "            Russian:                   yes\n",
            "            Chinese (Mandarin):        yes\n",
            "            Chinese (Cantonese):       yes\n",
            "\n",
            "(CDPATH=\"${ZSH_VERSION+.}:\" && cd . && /bin/bash /content/espeak-ng/missing autoheader)\n",
            "rm -f stamp-h1\n",
            "touch config.h.in\n",
            "cd . && /bin/bash ./config.status config.h\n",
            "config.status: creating config.h\n",
            "config.status: config.h is unchanged\n",
            "make  all-am\n",
            "make[1]: Entering directory '/content/espeak-ng'\n",
            "make[1]: Circular phsource/phonemes.stamp <- phsource/phonemes.stamp dependency dropped.\n",
            "make[1]: Leaving directory '/content/espeak-ng'\n",
            "make: Circular phsource/phonemes.stamp <- phsource/phonemes.stamp dependency dropped.\n",
            "make[1]: Entering directory '/content/espeak-ng'\n",
            " /bin/mkdir -p '/usr/local/lib'\n",
            " /bin/bash ./libtool   --mode=install /usr/bin/install -c   src/libespeak-ng.la '/usr/local/lib'\n",
            "libtool: install: /usr/bin/install -c src/.libs/libespeak-ng.so.1.1.51 /usr/local/lib/libespeak-ng.so.1.1.51\n",
            "libtool: install: (cd /usr/local/lib && { ln -s -f libespeak-ng.so.1.1.51 libespeak-ng.so.1 || { rm -f libespeak-ng.so.1 && ln -s libespeak-ng.so.1.1.51 libespeak-ng.so.1; }; })\n",
            "libtool: install: (cd /usr/local/lib && { ln -s -f libespeak-ng.so.1.1.51 libespeak-ng.so || { rm -f libespeak-ng.so && ln -s libespeak-ng.so.1.1.51 libespeak-ng.so; }; })\n",
            "libtool: install: /usr/bin/install -c src/.libs/libespeak-ng.lai /usr/local/lib/libespeak-ng.la\n",
            "libtool: install: /usr/bin/install -c src/.libs/libespeak-ng.a /usr/local/lib/libespeak-ng.a\n",
            "libtool: install: chmod 644 /usr/local/lib/libespeak-ng.a\n",
            "libtool: install: ranlib /usr/local/lib/libespeak-ng.a\n",
            "libtool: finish: PATH=\"/opt/bin:/usr/local/nvidia/bin:/usr/local/cuda/bin:/usr/local/sbin:/usr/local/bin:/usr/sbin:/usr/bin:/sbin:/bin:/tools/node/bin:/tools/google-cloud-sdk/bin:/sbin\" ldconfig -n /usr/local/lib\n",
            "----------------------------------------------------------------------\n",
            "Libraries have been installed in:\n",
            "   /usr/local/lib\n",
            "\n",
            "If you ever happen to want to link against installed libraries\n",
            "in a given directory, LIBDIR, you must either use libtool, and\n",
            "specify the full pathname of the library, or use the '-LLIBDIR'\n",
            "flag during linking and do at least one of the following:\n",
            "   - add LIBDIR to the 'LD_LIBRARY_PATH' environment variable\n",
            "     during execution\n",
            "   - add LIBDIR to the 'LD_RUN_PATH' environment variable\n",
            "     during linking\n",
            "   - use the '-Wl,-rpath -Wl,LIBDIR' linker flag\n",
            "   - have your system administrator add LIBDIR to '/etc/ld.so.conf'\n",
            "\n",
            "See any operating system documentation about shared libraries for\n",
            "more information, such as the ld(1) and ld.so(8) manual pages.\n",
            "----------------------------------------------------------------------\n",
            " /bin/mkdir -p '/usr/local/bin'\n",
            "  /bin/bash ./libtool   --mode=install /usr/bin/install -c src/speak-ng src/espeak-ng '/usr/local/bin'\n",
            "libtool: install: /usr/bin/install -c src/speak-ng /usr/local/bin/speak-ng\n",
            "libtool: install: /usr/bin/install -c src/.libs/espeak-ng /usr/local/bin/espeak-ng\n",
            "make  install-exec-hook\n",
            "make[2]: Entering directory '/content/espeak-ng'\n",
            "cd /usr/local/bin && rm -f espeak && ln -s espeak-ng espeak\n",
            "cd /usr/local/bin && rm -f speak  && ln -s speak-ng speak\n",
            "cd /usr/local/lib && rm -f libespeak.la && ln -s libespeak-ng.la libespeak.la\n",
            "make[2]: Leaving directory '/content/espeak-ng'\n",
            " /bin/mkdir -p '/usr/local/include/espeak'\n",
            " /usr/bin/install -c -m 644 src/include/espeak/speak_lib.h '/usr/local/include/espeak'\n",
            " /bin/mkdir -p '/usr/local/include/espeak-ng'\n",
            " /usr/bin/install -c -m 644 src/include/espeak-ng/encoding.h src/include/espeak-ng/espeak_ng.h src/include/espeak-ng/speak_lib.h '/usr/local/include/espeak-ng'\n",
            " /bin/mkdir -p '/usr/local/lib/pkgconfig'\n",
            " /usr/bin/install -c -m 644 espeak-ng.pc '/usr/local/lib/pkgconfig'\n",
            " /bin/mkdir -p '/usr/local/share/vim/addons/ftdetect'\n",
            " /usr/bin/install -c -m 644 ./vim/ftdetect/espeakfiletype.vim '/usr/local/share/vim/addons/ftdetect'\n",
            " /bin/mkdir -p '/usr/local/share/vim/addons/syntax'\n",
            " /usr/bin/install -c -m 644 ./vim/syntax/espeaklist.vim ./vim/syntax/espeakrules.vim '/usr/local/share/vim/addons/syntax'\n",
            " /bin/mkdir -p '/usr/local/share/vim/registry'\n",
            " /usr/bin/install -c -m 644 ./vim/registry/espeak.yaml '/usr/local/share/vim/registry'\n",
            "make  install-data-hook\n",
            "make[2]: Entering directory '/content/espeak-ng'\n",
            "rm -rf /usr/local/share/espeak-ng-data\n",
            "mkdir -p /usr/local/share/espeak-ng-data\n",
            "cp -prf espeak-ng-data/* /usr/local/share/espeak-ng-data\n",
            "make[2]: Leaving directory '/content/espeak-ng'\n",
            "make[1]: Leaving directory '/content/espeak-ng'\n"
          ]
        }
      ]
    },
    {
      "cell_type": "code",
      "metadata": {
        "id": "qNaffdk5vkVI",
        "colab": {
          "base_uri": "https://localhost:8080/"
        },
        "outputId": "83cd3571-57d8-464e-eb46-bd10f2c8df4d"
      },
      "source": [
        "!pip install phonemizer"
      ],
      "execution_count": 56,
      "outputs": [
        {
          "output_type": "stream",
          "name": "stdout",
          "text": [
            "Looking in indexes: https://pypi.org/simple, https://us-python.pkg.dev/colab-wheels/public/simple/\n",
            "Requirement already satisfied: phonemizer in /usr/local/lib/python3.7/dist-packages (3.2.1)\n",
            "Requirement already satisfied: segments in /usr/local/lib/python3.7/dist-packages (from phonemizer) (2.2.1)\n",
            "Requirement already satisfied: dlinfo in /usr/local/lib/python3.7/dist-packages (from phonemizer) (1.2.1)\n",
            "Requirement already satisfied: typing-extensions in /usr/local/lib/python3.7/dist-packages (from phonemizer) (4.1.1)\n",
            "Requirement already satisfied: attrs>=18.1 in /usr/local/lib/python3.7/dist-packages (from phonemizer) (22.1.0)\n",
            "Requirement already satisfied: joblib in /usr/local/lib/python3.7/dist-packages (from phonemizer) (1.1.0)\n",
            "Requirement already satisfied: csvw>=1.5.6 in /usr/local/lib/python3.7/dist-packages (from segments->phonemizer) (3.1.1)\n",
            "Requirement already satisfied: clldutils>=1.7.3 in /usr/local/lib/python3.7/dist-packages (from segments->phonemizer) (3.12.0)\n",
            "Requirement already satisfied: regex in /usr/local/lib/python3.7/dist-packages (from segments->phonemizer) (2022.6.2)\n",
            "Requirement already satisfied: colorlog in /usr/local/lib/python3.7/dist-packages (from clldutils>=1.7.3->segments->phonemizer) (6.6.0)\n",
            "Requirement already satisfied: python-dateutil in /usr/local/lib/python3.7/dist-packages (from clldutils>=1.7.3->segments->phonemizer) (2.8.2)\n",
            "Requirement already satisfied: tabulate>=0.7.7 in /usr/local/lib/python3.7/dist-packages (from clldutils>=1.7.3->segments->phonemizer) (0.8.10)\n",
            "Requirement already satisfied: language-tags in /usr/local/lib/python3.7/dist-packages (from csvw>=1.5.6->segments->phonemizer) (1.1.0)\n",
            "Requirement already satisfied: jsonschema in /usr/local/lib/python3.7/dist-packages (from csvw>=1.5.6->segments->phonemizer) (4.3.3)\n",
            "Requirement already satisfied: rfc3986<2 in /usr/local/lib/python3.7/dist-packages (from csvw>=1.5.6->segments->phonemizer) (1.5.0)\n",
            "Requirement already satisfied: uritemplate>=3.0.0 in /usr/local/lib/python3.7/dist-packages (from csvw>=1.5.6->segments->phonemizer) (3.0.1)\n",
            "Requirement already satisfied: babel in /usr/local/lib/python3.7/dist-packages (from csvw>=1.5.6->segments->phonemizer) (2.10.3)\n",
            "Requirement already satisfied: colorama in /usr/local/lib/python3.7/dist-packages (from csvw>=1.5.6->segments->phonemizer) (0.4.5)\n",
            "Requirement already satisfied: isodate in /usr/local/lib/python3.7/dist-packages (from csvw>=1.5.6->segments->phonemizer) (0.6.1)\n",
            "Requirement already satisfied: requests in /usr/local/lib/python3.7/dist-packages (from csvw>=1.5.6->segments->phonemizer) (2.23.0)\n",
            "Requirement already satisfied: rdflib in /usr/local/lib/python3.7/dist-packages (from csvw>=1.5.6->segments->phonemizer) (6.2.0)\n",
            "Requirement already satisfied: pytz>=2015.7 in /usr/local/lib/python3.7/dist-packages (from babel->csvw>=1.5.6->segments->phonemizer) (2022.2.1)\n",
            "Requirement already satisfied: six in /usr/local/lib/python3.7/dist-packages (from isodate->csvw>=1.5.6->segments->phonemizer) (1.15.0)\n",
            "Requirement already satisfied: pyrsistent!=0.17.0,!=0.17.1,!=0.17.2,>=0.14.0 in /usr/local/lib/python3.7/dist-packages (from jsonschema->csvw>=1.5.6->segments->phonemizer) (0.18.1)\n",
            "Requirement already satisfied: importlib-metadata in /usr/local/lib/python3.7/dist-packages (from jsonschema->csvw>=1.5.6->segments->phonemizer) (4.12.0)\n",
            "Requirement already satisfied: importlib-resources>=1.4.0 in /usr/local/lib/python3.7/dist-packages (from jsonschema->csvw>=1.5.6->segments->phonemizer) (5.9.0)\n",
            "Requirement already satisfied: zipp>=3.1.0 in /usr/local/lib/python3.7/dist-packages (from importlib-resources>=1.4.0->jsonschema->csvw>=1.5.6->segments->phonemizer) (3.8.1)\n",
            "Requirement already satisfied: pyparsing in /usr/local/lib/python3.7/dist-packages (from rdflib->csvw>=1.5.6->segments->phonemizer) (3.0.9)\n",
            "Requirement already satisfied: setuptools in /usr/local/lib/python3.7/dist-packages (from rdflib->csvw>=1.5.6->segments->phonemizer) (57.4.0)\n",
            "Requirement already satisfied: chardet<4,>=3.0.2 in /usr/local/lib/python3.7/dist-packages (from requests->csvw>=1.5.6->segments->phonemizer) (3.0.4)\n",
            "Requirement already satisfied: certifi>=2017.4.17 in /usr/local/lib/python3.7/dist-packages (from requests->csvw>=1.5.6->segments->phonemizer) (2022.6.15)\n",
            "Requirement already satisfied: urllib3!=1.25.0,!=1.25.1,<1.26,>=1.21.1 in /usr/local/lib/python3.7/dist-packages (from requests->csvw>=1.5.6->segments->phonemizer) (1.24.3)\n",
            "Requirement already satisfied: idna<3,>=2.5 in /usr/local/lib/python3.7/dist-packages (from requests->csvw>=1.5.6->segments->phonemizer) (2.10)\n"
          ]
        }
      ]
    },
    {
      "cell_type": "code",
      "metadata": {
        "colab": {
          "base_uri": "https://localhost:8080/"
        },
        "id": "v5OXc5Alt2kQ",
        "outputId": "97f81b9e-44b3-4376-b6bb-34852c9e8fe1"
      },
      "source": [
        "!pip install opencc"
      ],
      "execution_count": 57,
      "outputs": [
        {
          "output_type": "stream",
          "name": "stdout",
          "text": [
            "Looking in indexes: https://pypi.org/simple, https://us-python.pkg.dev/colab-wheels/public/simple/\n",
            "Requirement already satisfied: opencc in /usr/local/lib/python3.7/dist-packages (1.1.4)\n"
          ]
        }
      ]
    },
    {
      "cell_type": "code",
      "metadata": {
        "colab": {
          "base_uri": "https://localhost:8080/"
        },
        "id": "EexSoTr0Kz3X",
        "outputId": "51b10486-d356-4d7e-8b15-0aaf64a973ff"
      },
      "source": [
        "!gdown --id 12mkoWwcJDo_jApGXia3IXiONitn_IcfB"
      ],
      "execution_count": 58,
      "outputs": [
        {
          "output_type": "stream",
          "name": "stdout",
          "text": [
            "/usr/local/lib/python3.7/dist-packages/gdown/cli.py:131: FutureWarning: Option `--id` was deprecated in version 4.3.1 and will be removed in 5.0. You don't need to pass it anymore to use a file ID.\n",
            "  category=FutureWarning,\n",
            "Downloading...\n",
            "From: https://drive.google.com/uc?id=12mkoWwcJDo_jApGXia3IXiONitn_IcfB\n",
            "To: /content/000001-010000.txt\n",
            "100% 1.45M/1.45M [00:00<00:00, 97.5MB/s]\n"
          ]
        }
      ]
    },
    {
      "cell_type": "code",
      "source": [
        "tt=[\"من و ما مٍثلِ تو شدیم\",\"تو\"]"
      ],
      "metadata": {
        "id": "RA9R-faB-qKx"
      },
      "execution_count": 59,
      "outputs": []
    },
    {
      "cell_type": "code",
      "metadata": {
        "id": "GmiIuCJ1uFLO"
      },
      "source": [
        "from phonemizer import phonemize\n",
        "phonemes = phonemize(tt, language='fa')"
      ],
      "execution_count": 60,
      "outputs": []
    },
    {
      "cell_type": "code",
      "metadata": {
        "id": "5PEOBKGcupV2",
        "colab": {
          "base_uri": "https://localhost:8080/"
        },
        "outputId": "898146e3-c084-4493-d0a9-71cbe46d9707"
      },
      "source": [
        "print(phonemes)"
      ],
      "execution_count": 61,
      "outputs": [
        {
          "output_type": "stream",
          "name": "stdout",
          "text": [
            "['man va mɑ mensle to ʃodim ', 'to ']\n"
          ]
        }
      ]
    },
    {
      "cell_type": "code",
      "source": [
        "charecters=[]\n",
        "words=[]\n",
        "sentences=[\"اي درج محبت به همان مهر و نشان باش\" , \"خون شد دلم از حسرت ان لعل روان بخش\", \"گو می رسم اینک به سلامت نگران باش\", \"دلدار که گفتا به توام دل نگران است\" ,\"جهدی کن و سرحلقه رندان جهان باش\", \"جهدی کن و سرحلقه رندان جهان باش\", \"در خرقه چو آتش زدی اي عارف سالک\", \"ما را دو سه ساغر بده و گو رمضان باش\", \"زان باده که در میکده عشق فروشند\" ,\"وین سوخته را محرم اسرار نهان باش\", \"بازآی و دل تنگ مرا مونس جان باش\", \"گر چرخ گردون گر دو روزی بر مراد ما نرفت\" ,\"دایما یکسان نباشد حال دوران غم مخور\", \"تا کیمیا عشق بیابی و زر شوی\", \"دست از مس وجود چو مردان ره بشوی\", \"هان اي پسر بکـــوش که روزی پدر شوی\" ,\"در مکتب حقایق پیش ادیـب عشـق\", \"تـا راهــــرو نباشی کـی راهـبـر شـوی\", \"اي بـی‌خبــر بکــوش کـه صاحب خبــر شوی\",\"خدایا نظر تو برنگردد\"]\n",
        "updated_sentences=[\"اي درجِ محبت به همان مهر و نشان باش\" , \"خون شد دلم از حسرتِ ان لعلِ روان بخش\", \"گو می رسم اینک به سلامت نگران باش\", \"دلدار که گفتا به توام دل نگران است\" ,\"جهدی کن و سرحلقه ی رندانِ جهان باش\", \"جهدی کن و سرحلقه ی رندانِ جهان باش\", \"در خرقه چو آتش زدی اي عارفِ سالک\", \"ما را دو سه ساغر بده و گو رمضان باش\", \"زان باده که در میکده ی عشق فروشند\" ,\"وین سوخته را محرمِ اسرارِ نهان باش\", \"بازآی و دلِ تنگِ مرا مونسِ جان باش\", \"گر چرخِ گردون گر دو روزی بر مرادِ ما نرفت\" ,\"دایما یکسان نباشد حالِ دوران غم مخور\", \"تا کیمیای عشق بیابی و زر شوی\", \"دست از مسِ وجود چو مردانِ ره بشوی\", \"هان اي پسر بکـــوش که روزی پدر شوی\" ,\"در مکتبِ حقایق پیشِ ادیـبِ عشـق\", \"تـا راهــــرو نباشی کـی راهـبـر شـوی\", \"اي بـی‌خبــر بکــوش کـه صاحب خبــر شوی\",\"خدایا نظر تو برنگردد\"]\n",
        "\n",
        "\n",
        "Alphabet=[ \"\\u200c\", \"ـ\", \"آ\", \"ي\",\"ا\",\"ب\",\"پ\",\"ت\",\"ث\",\"ج\",\"چ\",\"ح\",\"خ\",\"د\",\"ذ\",\"ر\",\"ز\",\"ژ\",\"س\",\"ش\",\"ص\",\"ض\",\"ط\",\"ظ\",\"ع\",\"غ\",\"ف\",\"ق\",\"ک\",\"گ\",\"ل\",\"م\",\"ن\",\"و\",\"ه\",\"ی\"]\n",
        "\n",
        "\n",
        "Dict_c={}\n",
        "Dict_c.update({\" \":0})\n",
        "for i in range(36) :\n",
        "  Dict_c.update({Alphabet[i]:i+1})\n",
        "\n",
        "\n",
        "\n",
        "All_Words=set()\n",
        "for i in range(20):\n",
        "  x=sentences[i].split()\n",
        "  All_Words.update(x)\n",
        "All_Words=sorted(All_Words)\n",
        "print(All_Words)  \n",
        "Dict_w={}\n",
        "Dict_w.update({\" \":0})\n",
        "for i in range(len(All_Words)) :\n",
        "  Dict_w.update({All_Words[i]:i+1})"
      ],
      "metadata": {
        "colab": {
          "base_uri": "https://localhost:8080/"
        },
        "id": "SL80IOoxABoM",
        "outputId": "9bd1bb11-a462-4c92-e6b5-27d9cda80f51"
      },
      "execution_count": 62,
      "outputs": [
        {
          "output_type": "stream",
          "name": "stdout",
          "text": [
            "['آتش', 'ادیـب', 'از', 'است', 'اسرار', 'ان', 'اي', 'اینک', 'باده', 'بازآی', 'باش', 'بخش', 'بده', 'بر', 'برنگردد', 'بشوی', 'بـی\\u200cخبــر', 'به', 'بکـــوش', 'بکــوش', 'بیابی', 'تا', 'تـا', 'تنگ', 'تو', 'توام', 'جان', 'جهان', 'جهدی', 'حال', 'حسرت', 'حقایق', 'خبــر', 'خدایا', 'خرقه', 'خون', 'دایما', 'در', 'درج', 'دست', 'دل', 'دلدار', 'دلم', 'دو', 'دوران', 'را', 'راهـبـر', 'راهــــرو', 'رسم', 'رمضان', 'رندان', 'ره', 'روان', 'روزی', 'زان', 'زدی', 'زر', 'ساغر', 'سالک', 'سرحلقه', 'سلامت', 'سه', 'سوخته', 'شد', 'شـوی', 'شوی', 'صاحب', 'عارف', 'عشـق', 'عشق', 'غم', 'فروشند', 'لعل', 'ما', 'محبت', 'محرم', 'مخور', 'مرا', 'مراد', 'مردان', 'مس', 'مهر', 'مونس', 'مکتب', 'می', 'میکده', 'نباشد', 'نباشی', 'نرفت', 'نشان', 'نظر', 'نهان', 'نگران', 'هان', 'همان', 'و', 'وجود', 'وین', 'پدر', 'پسر', 'پیش', 'چرخ', 'چو', 'کـه', 'کـی', 'کن', 'که', 'کیمیا', 'گر', 'گردون', 'گفتا', 'گو', 'یکسان']\n"
          ]
        }
      ]
    },
    {
      "cell_type": "code",
      "source": [
        "def characterize(word):\n",
        "  s=\"\"\n",
        "  for x in word:\n",
        "    s+=(str(Dict_c[x])+\"-\")\n",
        "  s=s[:-1]  \n",
        "  return s\n",
        "def word_tokenizer(sentence):\n",
        "  s=\"\"\n",
        "  y=sentence.split()\n",
        "  for x in y:\n",
        "    s+=(str(Dict_w[x])+\"-\")\n",
        "  s=s[:-1]  \n",
        "  return s"
      ],
      "metadata": {
        "id": "TXtW6EolBd7d"
      },
      "execution_count": 63,
      "outputs": []
    },
    {
      "cell_type": "code",
      "source": [
        "from phonemizer import phonemize\n",
        "Word_token=[]\n",
        "Char_token=[]\n",
        "Phonem_token=[]\n",
        "Updated_Phonem_token=[]\n",
        "for i in range(len(sentences)):\n",
        "  Char_token.append(characterize(sentences[i]))\n",
        "  Word_token.append(word_tokenizer(sentences[i]))\n",
        "  Phonem_token.append(phonemize(sentences[i], language=\"fa\"))\n",
        "  Updated_Phonem_token.append(phonemize(updated_sentences[i], language=\"fa\"))\n",
        "\n"
      ],
      "metadata": {
        "id": "TtHzJeAfBs9i"
      },
      "execution_count": 65,
      "outputs": []
    },
    {
      "cell_type": "code",
      "source": [
        "for i in range(len(sentences)):\n",
        "  print(Word_token[i]+\"      And     \"+Char_token[i]+\"           And         \"+Phonem_token[i]+\"         And           \"+Updated_Phonem_token[i])"
      ],
      "metadata": {
        "colab": {
          "base_uri": "https://localhost:8080/"
        },
        "id": "E5a48hOYE46a",
        "outputId": "976eaa78-6b95-4ae4-af27-37e3a29875c6"
      },
      "execution_count": 66,
      "outputs": [
        {
          "output_type": "stream",
          "name": "stdout",
          "text": [
            "7-39-75-18-95-82-96-90-11      And     5-4-0-14-16-10-0-32-12-6-8-0-6-35-0-35-32-5-33-0-32-35-16-0-34-0-33-20-5-33-0-6-5-20           And         iː dardʒ mohabbat beː hamɑn meːhr va neʃɑn bɑʃ          And           iː dardʒe mohabbat beː hamɑn meːhr va neʃɑn bɑʃ \n",
            "36-64-43-3-31-6-73-53-12      And     13-34-33-0-20-14-0-14-31-32-0-5-17-0-12-19-16-8-0-5-33-0-31-25-31-0-16-34-5-33-0-6-13-20           And         xuːn ʃod delam az hasrat en laʔl ravɑn baxʃ          And           xuːn ʃod delam az hasarate en laʔle ravɑn baxʃ \n",
            "112-85-49-8-18-61-93-11      And     30-34-0-32-36-0-16-19-32-0-5-36-33-29-0-6-35-0-19-31-5-32-8-0-33-30-16-5-33-0-6-5-20           And         ɡuː mi rasm iːnak beː salɑmat neɡarɑn bɑʃ          And           ɡuː mi rasm iːnak beː salɑmat neɡarɑn bɑʃ \n",
            "42-107-111-18-26-41-93-4      And     14-31-14-5-16-0-29-35-0-30-27-8-5-0-6-35-0-8-34-5-32-0-14-31-0-33-30-16-5-33-0-5-19-8           And         deldɑr keː ɡoftɑ beː toːʔam del neɡarɑn ast          And           deldɑr keː ɡoftɑ beː toːʔam del neɡarɑn ast \n",
            "29-106-96-60-51-28-11      And     10-35-14-36-0-29-33-0-34-0-19-16-12-31-28-35-0-16-33-14-5-33-0-10-35-5-33-0-6-5-20           And         dʒahdi kon va sarhalq1eː rendɑn dʒahɑn bɑʃ          And           dʒahdi kon va sarhalq1eː jeː rendɑne dʒahɑn bɑʃ \n",
            "29-106-96-60-51-28-11      And     10-35-14-36-0-29-33-0-34-0-19-16-12-31-28-35-0-16-33-14-5-33-0-10-35-5-33-0-6-5-20           And         dʒahdi kon va sarhalq1eː rendɑn dʒahɑn bɑʃ          And           dʒahdi kon va sarhalq1eː jeː rendɑne dʒahɑn bɑʃ \n",
            "38-35-103-1-56-7-68-59      And     14-16-0-13-16-28-35-0-11-34-0-3-8-20-0-17-14-36-0-5-4-0-25-5-16-27-0-19-5-31-29           And         dar xerq1eː tʃo ɑtaʃ zadi iː ɑref sɑlek          And           dar xerq1eː tʃo ɑtaʃ zadi iː ɑrefe sɑlek \n",
            "74-46-44-62-58-13-96-112-50-11      And     32-5-0-16-5-0-14-34-0-19-35-0-19-5-26-16-0-6-14-35-0-34-0-30-34-0-16-32-22-5-33-0-6-5-20           And         mɑ rɑ do seː sɑq1ar bedeː va ɡuː ramezɑn bɑʃ          And           mɑ rɑ do seː sɑq1ar bedeː va ɡuː ramezɑn bɑʃ \n",
            "55-9-107-38-86-70-72      And     17-5-33-0-6-5-14-35-0-29-35-0-14-16-0-32-36-29-14-35-0-25-20-28-0-27-16-34-20-33-14           And         zɑn bɑdeː keː dar mejkadeː eːʃq1 foruːʃand          And           zɑn bɑdeː keː dar mejkadeː jeː eːʃq1 foruːʃand \n",
            "98-63-46-76-5-92-11      And     34-36-33-0-19-34-13-8-35-0-16-5-0-32-12-16-32-0-5-19-16-5-16-0-33-35-5-33-0-6-5-20           And         vijan suxteː rɑ mahram aːsrɑr nahɑn bɑʃ          And           vijan suxteː rɑ mahrame aːsrɑre nahɑn bɑʃ \n",
            "10-96-41-24-78-83-27-11      And     6-5-17-3-36-0-34-0-14-31-0-8-33-30-0-32-16-5-0-32-34-33-19-0-10-5-33-0-6-5-20           And         bɑzɑje va del tanɡ marɑ munes dʒɑn bɑʃ          And           bɑzɑje va dele tanɡe marɑ munese dʒɑn bɑʃ \n",
            "109-102-110-109-44-54-14-79-74-89      And     30-16-0-11-16-13-0-30-16-14-34-33-0-30-16-0-14-34-0-16-34-17-36-0-6-16-0-32-16-5-14-0-32-5-0-33-16-27-8           And         ɡar tʃarx ɡarduːn ɡar do ruːzi bar morɑd mɑ naraft          And           ɡar tʃarxe ɡarduːn ɡar do ruːzi bar morɑde mɑ naraft \n",
            "37-113-87-30-45-71-77      And     14-5-36-32-5-0-36-29-19-5-33-0-33-6-5-20-14-0-12-5-31-0-14-34-16-5-33-0-26-32-0-32-13-34-16           And         dɑjmɑ jeksɑn nabɑʃad hɑl doːrɑn q1am maxor          And           dɑjmɑ jeksɑn nabɑʃad hɑle doːrɑn q1am maxor \n",
            "22-108-70-21-96-57-66      And     8-5-0-29-36-32-36-5-0-25-20-28-0-6-36-5-6-36-0-34-0-17-16-0-20-34-36           And         tɑː kimiɑ eːʃq1 biɑbi va zar ʃavi          And           tɑː kimiɑje eːʃq1 biɑbi va zar ʃavi \n",
            "40-3-81-97-103-80-52-16      And     14-19-8-0-5-17-0-32-19-0-34-10-34-14-0-11-34-0-32-16-14-5-33-0-16-35-0-6-20-34-36           And         dast az mes vodʒuːd tʃo mardɑn rah beʃavi          And           dast az mese vodʒuːd tʃo mardɑne rah beʃavi \n",
            "94-7-100-19-107-54-99-66      And     35-5-33-0-5-4-0-7-19-16-0-6-29-2-2-2-34-20-0-29-35-0-16-34-17-36-0-7-14-16-0-20-34-36           And         hɑn iː pesar bekuːʃ keː ruːzi pedar ʃavi          And           hɑn iː pesar bekuːʃ keː ruːzi pedar ʃavi \n",
            "38-84-32-101-2-69      And     14-16-0-32-29-8-6-0-12-28-5-36-28-0-7-36-20-0-5-14-36-2-6-0-25-20-2-28           And         dar maktab haq1ɑjeq1 piʃ aːdib eːʃq1          And           dar maktabe haq1ɑjeq1 piʃe aːdibe eːʃq1 \n",
            "23-48-88-105-47-65      And     8-2-5-0-16-5-35-2-2-2-2-16-34-0-33-6-5-20-36-0-29-2-36-0-16-5-35-2-6-2-16-0-20-2-34-36           And         tɑː rɑhro nabɑʃi kej rɑhbar ʃavi          And           tɑː rɑhro nabɑʃi kej rɑhbar ʃavi \n",
            "7-17-20-104-67-33-66      And     5-4-0-6-2-36-1-13-6-2-2-16-0-6-29-2-2-34-20-0-29-2-35-0-21-5-12-6-0-13-6-2-2-16-0-20-34-36           And         iː bixabar bekuːʃ keː sɑheb xabar ʃavi          And           iː bixabar bekuːʃ keː sɑheb xabar ʃavi \n",
            "34-91-25-15      And     13-14-5-36-5-0-33-24-16-0-8-34-0-6-16-33-30-16-14-14           And         xodɑjɑ nazar to barnaɡardad          And           xodɑjɑ nazar to barnaɡardad \n"
          ]
        }
      ]
    },
    {
      "cell_type": "code",
      "source": [
        ""
      ],
      "metadata": {
        "id": "uY3Tdd1fFx0L"
      },
      "execution_count": null,
      "outputs": []
    }
  ]
}