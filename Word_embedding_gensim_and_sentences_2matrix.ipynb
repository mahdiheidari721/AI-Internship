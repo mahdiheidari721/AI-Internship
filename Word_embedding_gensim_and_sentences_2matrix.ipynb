{
  "nbformat": 4,
  "nbformat_minor": 0,
  "metadata": {
    "colab": {
      "provenance": [],
      "collapsed_sections": [],
      "authorship_tag": "ABX9TyPKhBCzSVdIDzicoe1PGiaF",
      "include_colab_link": true
    },
    "kernelspec": {
      "name": "python3",
      "display_name": "Python 3"
    },
    "language_info": {
      "name": "python"
    }
  },
  "cells": [
    {
      "cell_type": "markdown",
      "metadata": {
        "id": "view-in-github",
        "colab_type": "text"
      },
      "source": [
        "<a href=\"https://colab.research.google.com/github/mahdiheidari721/AI-Internship/blob/master/Word_embedding_gensim_and_sentences_2matrix.ipynb\" target=\"_parent\"><img src=\"https://colab.research.google.com/assets/colab-badge.svg\" alt=\"Open In Colab\"/></a>"
      ]
    },
    {
      "cell_type": "code",
      "source": [
        "document=[\"به پاتم بسوزم تو شمعم نمیشی\",\"تو هوای دنیای آدم نمیشی\",\"غرورت گلومو به هق هق کشیده\",\"آدم که قسم خورده اشو یادش نمیره\",\"برای آنان که تلاش می کنند چیزی غیرممکن نیست\",\"خبر بد آن است که زمان پرواز می کند. خبر خوب آن است که شما خلبانش هستید\",\"صورتت را سمت نور آفتاب نگه دار تا سایه پشت سر تو باشد\",\"بیاموز گویی تا ابد زنده خواهی بود. زندگی کن گویی فردا خواهی مرد\",\"چیزهای خوب به سمت کسانی که منتظر می مانند می آیند، ولی فقط باقی مانده های چیزهایی که افرادی که همیشه راهی هستند به دست می آورند\",\"درد غیرقابل اجتناب است ولی رنج اختیاری است\",\"تمام رویاهای ما می توانند محقق شوند. فقط به شرط اینکه شجاعت دنبال کردن آن ها را داشته باشیم\",\"\",\"\",\"\",\"هدف زندگی خوش حال بودن است\",\"اگر بخواهیم مشکلاتمان را با نگرشی که آن ها را به وجود آوردند حل کنیم شکست می خوریم\",\"قوی ترین مردم کسانی نیستند که جلوی ما قوی به نظر می رسند بلکه آن هایی هستند که به جنگ هایی می روند که کسی از آن ها خبر ندارد\",\"بهترین زمان کاشت درخت بیست سال قبل بود. بهترین زمان بعدی دقیقا همین الان است\",\"جاده موفقیت و جاده شکست هم مسیر هستند\",\"اگر می خواهید با خوش حالی زندگی کنید زندگی تان را به یک هدف گره بزنید، نه به آدم ها و چیزها\",\"وقتی می بازید شکست نخورده اید. وقتی تسلیم شوید شکست خورده اید\",\"شکست دادن آدم هایی که هیچ وقت تسلیم نمی شوند سخت است\",\"موفقیت به سمت کسانی می آید که برای دنبال کردنش زیادی سرشان شلوغ است\",\"پول و موفقیت آدم ها را عوض نمی کنند فقط ذات آن ها را نشان می دهند\",\"مسیر بهبودی از یک بیماری طولانی مدت جاده ای بلند و پرپیچ و خم از پیروزی های کوچک است\",\"اگر بقیه شک دارند که چه قدر می توانید پیش بروید به جدی پیش بروید که دیگر نتوانید آن ها را بشنوید\",\"من هیچ وقت درباره موفقیت رویاپردازی نمی کنم. برایش کار می کنم\",\"وقت شما محدود است پس آن را صرف زندگی کردن زندگی یک نفر دیگر نکنید. درگیر تعصبات که نتیجه تفکرات بقیه افراد هستند نشوید\",\"عمر طولانی مهم نیست زندگی با کیفیت مهم است\",\"روزهای سخت دوام نمی آورند ولی آدم های سرسخت چرا\",\"باید بپذیریم که همیشه تصمیم های صحیح نمی گیریم، که گاهی اوقات بدجور گند می زنیم. باید بفهمیم که شکست نقطه متضاد موفقیت نیست بلکه جزوی از آن است\",\"موفقیت به دست آوردن چیزی است که می خواهید. خوش بختی خواستن آن چیزی است که دارید\",\"اگر زندگی قابل پیش بینی بود که دیگر زندگی نمی شد. می شد چیزی بدون طعم\",\"دنیا همه را می شکند ولی بعد از آن بعضی از افراد در جاهای شکسته قوی تر می شوند\",\"قصه های دیو و پری حقیقت دارند نه به خاطر اینکه می گویند اژدها وجود دارد بلکه به این دلیل که می گویند می توان اژدها را شکست داد\",\"آدم های بدبین در فرصت ها سختی می بینند. آدم های خوش بین در سختی ها فرصت می بینند\",\"جوری آوار بخوان که انگار کسی گوش نمی کند، جوری عاشق شو انگار هیچ وقت صدمه ندیده ای، جوری برقص انگار کسی تماشا نمی کند و جوری زندگی کن که انگار بهشت روی زمین به تجلی رسیده\",\"هر چیزی که بتوانید تصورش را بکنید حقیقت دارد\",\"اجازه نده که دیروز وقت امروزت را بگیرد\",\"کنجکاوی درباره همه امورات زندگی راز انسان های خلاق است\",\"زندگی مشکل برای حل کردن نیست بلکه حقیقتی است برای تجربه کردن\",\"وقتی یکی از درهای خوش بختی بسته می شود دری دیگر باز می شود ولی ما اغلب به حدی به در بسته خیره می مانیم که نمی توانیم درهای باز شده را ببینیم\",\"تجربه معلم سختگیری است چرا که اول امتحان بگیرد و بعد درس می دهد\",\"زخم های خود را به خرد تبدیل کنید\",\"هر روز یکی از کارهایی که شما را می ترساند انجام بدهید\",\"من به شانس باور دارم و به این نتیجه رسیده ام که وقتی بیشتر تلاش می کنم شانس بیشتری دارم\",\"اگر در آرزوی رنگین کمانی باید با باران کنار بیایی\",\"آدم های باهوش از همه چیز و همه کس یاد می گیرند، مردم عادی از تجربه ها یاد می گیرند و مردم احمق همین الان همه جواب ها را دارند\",\"خیلی از بازنده های زندگی افرادی هستند که متوجه نبودند در چند قدمی موفقیت قرار دارند\",\"بهتر است که در خلاقیت شکست خورد تا در تقلید موفق شد\",\"خودتان را محدود نکنید. خیلی از مردم خودشان را به چیزی که فکر می کنند توانایی اش را دارند محدود می کنند. شما می توانید تا حدی که ذهنتان به شما اجازه می دهد پیش بروید. حواستان باشد که چیزی که به آن باور دارید همان چیزی است که توانایی رسیدن به آن را دارید\",\"بعضی از مردم فکر می کنند قوی بودن به معنای حس نکردن درد است. در حقیقت، قوی ترین افراد کسانی هستند که درد را حس و درک می کنند و آن ها را می پذیرند\",\"تو فقط یکبار زندگی می کند ولی اگر درست انجامش بدهی همان یکبار کافی است\",\"یا مشغول زندگی شو یا مشغول مردن\",\"موفقیت نهایی نیست؛ شکست کشنده نیست: چیزی که مهم است جرئت ادامه دادن است\",\"راز جلو افتادن شروع کردن است\",\"گاهی اوقات چیزها فرومی پاشند تا چیزهای بهتر به هم برسند\"]"
      ],
      "metadata": {
        "id": "DhtQ5W3hj-A6"
      },
      "execution_count": 1,
      "outputs": []
    },
    {
      "cell_type": "code",
      "source": [
        "import string\n",
        "import nltk\n",
        "from nltk.corpus import brown\n",
        "from gensim.models import Word2Vec\n",
        "from sklearn.decomposition import PCA\n",
        "from matplotlib import pyplot\n",
        "data = []\n",
        "for sent in document:\n",
        "  new_sent = sent.split()\n",
        "  data.append(new_sent) \n",
        "# Creating Word2Vec\n",
        "model = Word2Vec(\n",
        "    sentences = data,\n",
        "    size = 50,\n",
        "    window = 1,\n",
        "    min_count=1,\n",
        "    iter = 1,\n",
        ")"
      ],
      "metadata": {
        "colab": {
          "base_uri": "https://localhost:8080/"
        },
        "id": "k0jF00OdV6sn",
        "outputId": "bdd8968e-dbee-4fe4-9c3f-4ae7c015e3bb"
      },
      "execution_count": 3,
      "outputs": [
        {
          "output_type": "stream",
          "name": "stderr",
          "text": [
            "WARNING:gensim.models.base_any2vec:consider setting layer size to a multiple of 4 for greater performance\n",
            "WARNING:gensim.models.base_any2vec:under 10 jobs per worker: consider setting a smaller `batch_words' for smoother alpha decay\n"
          ]
        }
      ]
    },
    {
      "cell_type": "code",
      "source": [
        "def embedding(word):\n",
        "  print(model.wv[word])"
      ],
      "metadata": {
        "id": "rycVnqsozx01"
      },
      "execution_count": 4,
      "outputs": []
    },
    {
      "cell_type": "code",
      "source": [
        "embedding(\"مردم\")\n"
      ],
      "metadata": {
        "colab": {
          "base_uri": "https://localhost:8080/"
        },
        "id": "exyQI6GIX4EX",
        "outputId": "df3e25d0-56f8-4963-fb8e-942abf2c8fc2"
      },
      "execution_count": 5,
      "outputs": [
        {
          "output_type": "stream",
          "name": "stdout",
          "text": [
            "[-0.00691175  0.00267785 -0.00877753  0.00387973  0.00927992  0.00967855\n",
            "  0.00752855 -0.00771711 -0.00094019  0.00214571 -0.0049373   0.00410903\n",
            "  0.00784571  0.00942656 -0.0019536  -0.00126759  0.00057756  0.00365502\n",
            " -0.00783978  0.00352001 -0.00349241  0.0062515   0.00545752  0.00946813\n",
            " -0.00932213 -0.00514608  0.00928816 -0.00116784 -0.00650668 -0.00906801\n",
            "  0.00018501 -0.00053678  0.00015445  0.00267729  0.00050961  0.00851687\n",
            " -0.00423375  0.00255605 -0.00938072  0.00935087 -0.00265704  0.0023463\n",
            " -0.00707785 -0.00727627  0.00831594  0.00191154 -0.00933767 -0.00123836\n",
            "  0.00010978 -0.00387649]\n"
          ]
        }
      ]
    },
    {
      "cell_type": "code",
      "source": [
        "\n",
        " \n",
        "# Finding most similar words\n",
        "print(\"3 words similar to قوی\")\n",
        "words = model.most_similar(\"قوی\", topn=3)\n",
        "for word in words:\n",
        "  print(word)\n",
        "print()\n",
        " \n",
        "#Visualizing data\n",
        "words = [ \"حقیقت\", \"موفقیت\", \"مشغول\", \"زندگی\",\"قوی\"]\n",
        " \n",
        "X = model.wv[words]\n",
        "pca = PCA(n_components=2)\n",
        "result = pca.fit_transform(X)\n",
        " \n",
        "pyplot.scatter(result[:, 0], result[:, 1])\n",
        "for i, word in enumerate(words):\n",
        "    pyplot.annotate(word, xy=(result[i, 0], result[i, 1]))\n",
        "pyplot.show()"
      ],
      "metadata": {
        "colab": {
          "base_uri": "https://localhost:8080/",
          "height": 406
        },
        "id": "8EeRBxcddH0X",
        "outputId": "23e293f6-5402-46ee-ef5c-7a9f8ffc10d4"
      },
      "execution_count": 16,
      "outputs": [
        {
          "output_type": "stream",
          "name": "stdout",
          "text": [
            "3 words similar to قوی\n",
            "('گیرند', 0.32152119278907776)\n",
            "('چه', 0.3183120787143707)\n",
            "('عاشق', 0.3135472238063812)\n",
            "\n"
          ]
        },
        {
          "output_type": "stream",
          "name": "stderr",
          "text": [
            "/usr/local/lib/python3.7/dist-packages/ipykernel_launcher.py:3: DeprecationWarning: Call to deprecated `most_similar` (Method will be removed in 4.0.0, use self.wv.most_similar() instead).\n",
            "  This is separate from the ipykernel package so we can avoid doing imports until\n"
          ]
        },
        {
          "output_type": "display_data",
          "data": {
            "text/plain": [
              "<Figure size 432x288 with 1 Axes>"
            ],
            "image/png": "[encoded data removed]"
          },
          "metadata": {
            "needs_background": "light"
          }
        }
      ]
    },
    {
      "cell_type": "code",
      "source": [
        "def sen2mat(sen):\n",
        "  s=sen.split()\n",
        "  w=[]\n",
        "  for word in s:\n",
        "    w.append(embedding(word))\n",
        "  return w  \n"
      ],
      "metadata": {
        "id": "3GgJjDTna6Rs"
      },
      "execution_count": 13,
      "outputs": []
    },
    {
      "cell_type": "code",
      "source": [
        "print(sen2mat(\"مشغول زندگی شو\"))"
      ],
      "metadata": {
        "colab": {
          "base_uri": "https://localhost:8080/"
        },
        "id": "cNwTxgw1bXPj",
        "outputId": "ba52a202-d116-4350-a78b-648fc84a90c1"
      },
      "execution_count": 14,
      "outputs": [
        {
          "output_type": "stream",
          "name": "stdout",
          "text": [
            "[ 0.00049022  0.00265125  0.00076601 -0.0038772   0.00939181  0.00910426\n",
            "  0.00504534  0.00899093  0.0079     -0.00408507 -0.00314337 -0.00042145\n",
            "  0.00737444 -0.00566644 -0.00390294 -0.00400705  0.00618398 -0.00851791\n",
            " -0.00354996  0.00378993  0.00599914 -0.00687932 -0.00141968 -0.00821222\n",
            "  0.00317718  0.00513212  0.00989127  0.00978483  0.00768766  0.00688784\n",
            " -0.00021896 -0.00659511 -0.00667806  0.00305794 -0.00273734  0.00897284\n",
            " -0.00386073 -0.00110895 -0.00698421  0.00161891  0.00858834  0.00961188\n",
            " -0.00168131  0.00659956 -0.00394583  0.00663095  0.00448352 -0.00975779\n",
            "  0.00016512  0.0083501 ]\n",
            "[ 0.00222723 -0.00868513  0.00318447 -0.00063142  0.00376709  0.0086846\n",
            "  0.0059652   0.00461251 -0.00745853  0.00305764 -0.00284543  0.00264853\n",
            " -0.00588528  0.0059949   0.00575791  0.00394498  0.00606978 -0.00370345\n",
            " -0.00123722 -0.00177814 -0.00339748  0.00046861  0.00868368 -0.00674312\n",
            "  0.00150558 -0.00161475  0.00485725  0.0071355  -0.00086866  0.00838379\n",
            "  0.00111217 -0.00576693 -0.00929752 -0.00173223  0.00652978  0.00010647\n",
            " -0.00198643 -0.00224445  0.00473289  0.00157296 -0.00215399 -0.00473063\n",
            " -0.0004427   0.00184701  0.00320067 -0.0079496   0.00636503 -0.00560467\n",
            "  0.00332424  0.0009075 ]\n",
            "[-0.00195422 -0.00069714 -0.00438009 -0.00596818 -0.0035159   0.00624688\n",
            "  0.00030215 -0.00745731  0.00366602 -0.00272029  0.00572608  0.00322851\n",
            "  0.00217563 -0.00181996 -0.00496862  0.00811809  0.00956578  0.00612683\n",
            "  0.00658783 -0.00435399  0.00223347 -0.00984381  0.0025976  -0.00907136\n",
            "  0.00928521  0.00833771  0.00260825  0.00769643  0.00068231  0.00634931\n",
            "  0.00133623  0.00200476 -0.00342938 -0.00400739 -0.00493008 -0.00968796\n",
            " -0.00118275 -0.00149853 -0.00110092  0.00469485 -0.00132246 -0.0062504\n",
            "  0.00492894 -0.00032707  0.00569287 -0.00550216 -0.00793292 -0.00648719\n",
            " -0.00213036 -0.0076648 ]\n",
            "[None, None, None]\n"
          ]
        }
      ]
    }
  ]
}